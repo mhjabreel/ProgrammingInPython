{
 "cells": [
  {
   "cell_type": "markdown",
   "metadata": {},
   "source": [
    "# البرمجة بلغة بايثون\n",
    "# Programming In Python\n",
    "\n",
    "\n",
    "### ** محمد جبريل **\n",
    "[تعلم البرمجة من البداية حتى الاحتراف](https://www.facebook.com/groups/1300363670024580/)\n",
    "\n",
    "---"
   ]
  },
  {
   "cell_type": "markdown",
   "metadata": {},
   "source": [
    "## الدرس الثالث (أ)\n",
    "\n",
    "## معالجة البيانات Data Handling\n",
    "\n",
    "تعتبر البيانات العنصر الأساسي في بناء أي برنامج بأي لغة، لذا فإن جميع لغات البرمجة تحاول توفير مجموعة من الأدوات التي تضمن التمثيل الجيد للبيانات وتسهل عملية إدارتها ومعالجتها سواء كانت هذه البيانات رقمية أو نصية أو غيرها.\n",
    "\n",
    "سنتعلم في هذا الدرس بعض الأمور الأساسية والمهمة في معالجة مختلف أنواع البيانات، كالتحويل بين أنواع البيانات، والتعامل مع النصوص والقوائم وغيرها..\n",
    "\n",
    "\n",
    "بداية لنراجع معا أنواع البيانات الأساسية التي تدعمها لغة بايثون والتي هي كالتالي:\n",
    "* أنواع رقمية Numeric (int, long, float, complex)\n",
    "* بيانات نصية String\n",
    "* قوائم List\n",
    "* سلاسل Tuple\n",
    "\n",
    "> تذكير: في لغة بايثون يتم إنشاء المتغير وتحديد نوعه تلقائيا بمجرد إسناد القيمة\n",
    "راجع الدرس الثاني.\n",
    "\n",
    "### البيانات النصية Strings\n",
    "\n",
    "لنبدأ معا في التعرف على واحد من أنواع البيانات الأساسية في لغة بايثون، النصوص.\n",
    "يمكن تعريف النصوص بأنها مجموعة متسلسلة من الأحرف والأرقام والرموز محصورة بين عﻻمتي تنصيص أو عﻻمتي تنصيص مزدوجة.\n",
    "\n",
    "عﻻمة التنصيص هي '\n",
    "\n",
    "بينما عﻻمة التنصيص المزدوجة \"\n",
    "\n",
    "مثال:\n"
   ]
  },
  {
   "cell_type": "code",
   "execution_count": 1,
   "metadata": {
    "collapsed": true
   },
   "outputs": [],
   "source": [
    "s1 = \"Welcome in Python!\"\n",
    "s2 = 'Hello!'"
   ]
  },
  {
   "cell_type": "code",
   "execution_count": 2,
   "metadata": {},
   "outputs": [
    {
     "name": "stdout",
     "output_type": "stream",
     "text": [
      "Welcome in Python!\n",
      "Hello!\n"
     ]
    }
   ],
   "source": [
    "print s1\n",
    "print s2"
   ]
  },
  {
   "cell_type": "markdown",
   "metadata": {},
   "source": [
    "في المثال السابق تم تعريف متغيرين نصيين s1, s2\n",
    "\n",
    "ﻻحظ أن المتغير الاول احتوى على مجموعة من الأحرف المتتالية المحصورة بعﻻمتي تنصيص مزدوجة أما الثاني فحصر بعﻻمتي تنصين مفردة.\n",
    "\n",
    "في لغة بايثون استخدام أي من الرمزين لتعريف النصوص يعتبر صحيحا، ولكن هناك بعض الأمور التي يجب أن نراعيها أثناء التعامل مع النصوص، فعلى سبيل المثال، إذا كنا نريد إضافة عﻻمة التنصيص المزدوجة كجزء من النص (مثﻻ: لو أردنا اقتباس نص) ففي هذه الحالة يمكننا أن نختار استخدام عﻻمة التنصين المفردة لتعريف النص والعكس بالعكس.\n"
   ]
  },
  {
   "cell_type": "code",
   "execution_count": 3,
   "metadata": {},
   "outputs": [
    {
     "name": "stdout",
     "output_type": "stream",
     "text": [
      "He says \"Python is the easiest programming language\"\n"
     ]
    }
   ],
   "source": [
    "s = 'He says \"Python is the easiest programming language\"'\n",
    "print s"
   ]
  },
  {
   "cell_type": "markdown",
   "metadata": {},
   "source": [
    "كما أنه يمكننا عمل نفس الشيء باستخدام حرف الهروب \\ كالتالي:"
   ]
  },
  {
   "cell_type": "code",
   "execution_count": 4,
   "metadata": {},
   "outputs": [
    {
     "name": "stdout",
     "output_type": "stream",
     "text": [
      "He says \"Python is the easiest programming language\"\n"
     ]
    }
   ],
   "source": [
    "s = \"He says \\\"Python is the easiest programming language\\\"\"\n",
    "print s"
   ]
  },
  {
   "cell_type": "markdown",
   "metadata": {},
   "source": [
    "وفي حال أردنا عﻻمة التنصين المفردة كجزء من النص"
   ]
  },
  {
   "cell_type": "code",
   "execution_count": 5,
   "metadata": {},
   "outputs": [
    {
     "name": "stdout",
     "output_type": "stream",
     "text": [
      "Hello, 'World'\n",
      "Hello, 'All'\n"
     ]
    }
   ],
   "source": [
    "s = \"Hello, 'World'\"\n",
    "\n",
    "print s\n",
    "\n",
    "s = 'Hello, \\'All\\''\n",
    "print s"
   ]
  },
  {
   "cell_type": "markdown",
   "metadata": {},
   "source": [
    "\n",
    "### استقطاع جزء من النص\n",
    "\n",
    "يمكننا استقطاع جزء من السلسلة النصية في بايثون بطريقة سهلة للغاية، حيث أنه يمكن الوصول لحرف محدد وذلك بكتابة اسم المتغير النصي متبوعا برقم (عنوان) الحرف محصورا في قوسين مربعين []\n",
    "\n",
    "او يمكننا الوصول إلى مجموعة أحرف متتالية بكتابة الموقع الأول يتليه الاشارة : ثم الموقع الاخير.\n",
    "\n",
    "موقع أو عنوان أول حرف في السلسة النصية هو 0 بينما موقع آخر حرف هو طول السلسة ناقص واحد.\n",
    "\n",
    "يمكننا الحصول على أو معرفة طول السلسة النصية باستخدام الدالة ``len``\n",
    "\n"
   ]
  },
  {
   "cell_type": "code",
   "execution_count": 6,
   "metadata": {},
   "outputs": [
    {
     "name": "stdout",
     "output_type": "stream",
     "text": [
      "12\n"
     ]
    }
   ],
   "source": [
    "s = \"Hello world!\"\n",
    "\n",
    "print len(s)"
   ]
  },
  {
   "cell_type": "markdown",
   "metadata": {},
   "source": [
    "بما أن طول السلسلة في المثال السابق 12 فإن موقع آخر حرف هو 12 – 1 = 11."
   ]
  },
  {
   "cell_type": "code",
   "execution_count": 7,
   "metadata": {},
   "outputs": [
    {
     "name": "stdout",
     "output_type": "stream",
     "text": [
      "Hello world!\n",
      "H\n",
      "llo\n",
      "llo world!\n",
      "!\n"
     ]
    }
   ],
   "source": [
    "print s          # Prints complete string\n",
    "print s[0]       # Prints first character of the string\n",
    "print s[2:5]     # Prints characters starting from 3rd to 5th\n",
    "print s[2:]      # Prints string starting from 3rd character\n",
    "print s[11]"
   ]
  },
  {
   "cell_type": "markdown",
   "metadata": {},
   "source": [
    "\n",
    "في السطر الأول من المقطع البرمجي رقم 7 تم طباعة كامل السلسة، بينما تم طباعة ت الحرف الأول منها في السطر الثاني. ﻻحظ أننا في السطر الثالث كتبنا 2:5، وهذا يعني أنا نريد استقطاع الاحرف من الموقع الثاني وحتى الموقع الرابع وليس الخامس. تذكر أيضا أن عنوان أول حرف يبدأ من صفر وبالتالي فإنا نريد في السطر الثالث طباعة الحرف الثالث والرابع والخامس.\n",
    "\n",
    "من المﻻحظ أيضا أننا لم نقم بكتابة العنوان الاخير في السطر الرابع، مما يعني أنا نريد الحصول على الاحرف من الثالث وحتى نهاية السلسلة بغض النظر عن طولها.\n",
    "\n",
    "في آخر سطرا قمنا بتحديد آخر حرف في السلسلة والذي يحمل الموقع 11.\n",
    "\n",
    "ماذا اذا كتبنا رقما خارج النطاق، مثﻻ 15؟"
   ]
  },
  {
   "cell_type": "code",
   "execution_count": 8,
   "metadata": {},
   "outputs": [
    {
     "ename": "IndexError",
     "evalue": "string index out of range",
     "output_type": "error",
     "traceback": [
      "\u001b[0;31m---------------------------------------------------------------------------\u001b[0m",
      "\u001b[0;31mIndexError\u001b[0m                                Traceback (most recent call last)",
      "\u001b[0;32m<ipython-input-8-f7d410da46ad>\u001b[0m in \u001b[0;36m<module>\u001b[0;34m()\u001b[0m\n\u001b[0;32m----> 1\u001b[0;31m \u001b[0;32mprint\u001b[0m \u001b[0ms\u001b[0m\u001b[0;34m[\u001b[0m\u001b[0;36m15\u001b[0m\u001b[0;34m]\u001b[0m\u001b[0;34m\u001b[0m\u001b[0m\n\u001b[0m",
      "\u001b[0;31mIndexError\u001b[0m: string index out of range"
     ]
    }
   ],
   "source": [
    "print s[15]"
   ]
  },
  {
   "cell_type": "markdown",
   "metadata": {},
   "source": [
    "\n",
    "يظهر لنا خطأ يفيد بأنا نطلب موقع خارج النطاق.\n"
   ]
  },
  {
   "cell_type": "markdown",
   "metadata": {},
   "source": [
    "\n",
    "\n",
    "من الأمور الجميلة في لغة بايثون من حيث الوصول إلى الاحرف وإلى أجزاء السﻻسل أنها تسمح بمفوم الفهرسة السالبة، ومع هذا المفهوم فإنه يمكننا الوصول إلى الحرف الأخير باستخدام الفهرس – 1 وبالتالي فإن الحرف الأول يمكن الوصول إليه أيضا بالعنوان -12، وبشكل عام فإن مدى أو نطاق الفهرسة هو :\n",
    "\n",
    "-n : n – 1 \n",
    "\n",
    "حيث n هو طول السلسلة النصية"
   ]
  },
  {
   "cell_type": "code",
   "execution_count": 9,
   "metadata": {},
   "outputs": [
    {
     "name": "stdout",
     "output_type": "stream",
     "text": [
      "!\n",
      "H\n"
     ]
    }
   ],
   "source": [
    "print s[-1]\n",
    "print s[-12]"
   ]
  },
  {
   "cell_type": "markdown",
   "metadata": {},
   "source": [
    "\n",
    "هذا الامر مفيد في حالة عديدة مثﻻ لو لم يكن معلوم لديك مسبقا طول السلسة النصية وتريد طباعة الحرف قبل الأخير فإنه ببساطة يمكنك كتابة مايلي:"
   ]
  },
  {
   "cell_type": "code",
   "execution_count": 10,
   "metadata": {},
   "outputs": [
    {
     "name": "stdout",
     "output_type": "stream",
     "text": [
      "d\n"
     ]
    }
   ],
   "source": [
    "print s[-2]"
   ]
  },
  {
   "cell_type": "markdown",
   "metadata": {},
   "source": [
    "> ماذا تتوقع أن يكون خرج الاسطر التالية؟"
   ]
  },
  {
   "cell_type": "code",
   "execution_count": null,
   "metadata": {
    "collapsed": true
   },
   "outputs": [],
   "source": [
    "print s[-11:-3]\n",
    "print s[-1:]\n",
    "print s[2:20]"
   ]
  },
  {
   "cell_type": "markdown",
   "metadata": {},
   "source": [
    "في بايثون يمكننا أيضا استقطاع أحرف غير متتالية، مثﻻ إذا أردنا الحصول على الأحرف في المواقع الزوجية فقط فإنه ببساطة يمكننا كتابة:"
   ]
  },
  {
   "cell_type": "code",
   "execution_count": 11,
   "metadata": {},
   "outputs": [
    {
     "name": "stdout",
     "output_type": "stream",
     "text": [
      "Hlowrd\n"
     ]
    }
   ],
   "source": [
    "print s[0:12:2]"
   ]
  },
  {
   "cell_type": "markdown",
   "metadata": {},
   "source": [
    "الرقم 2 بعد العﻻمة : الثانية يدل على أن مقدار الزيادة 2 وبالتالي فإن الاحرف التي سيتم اختيارها هي الاحرف في المواقع \n",
    "    0, 2, 4, 6, 8, 10\n"
   ]
  },
  {
   "cell_type": "markdown",
   "metadata": {},
   "source": [
    "> ماذا تتوقع أن يكون خرج السطر التالي؟"
   ]
  },
  {
   "cell_type": "code",
   "execution_count": null,
   "metadata": {
    "collapsed": true
   },
   "outputs": [],
   "source": [
    "print s[::-1]"
   ]
  },
  {
   "cell_type": "markdown",
   "metadata": {},
   "source": [
    "> ماذا ﻻحظت؟"
   ]
  },
  {
   "cell_type": "markdown",
   "metadata": {},
   "source": [
    "### دمج السلاسل النصية\n",
    "\n",
    "في لغة بايثون يمكن دمج سلستين نصية أو أكثر باستخدام المعامل + وذلك كاالتالي:"
   ]
  },
  {
   "cell_type": "code",
   "execution_count": 12,
   "metadata": {},
   "outputs": [
    {
     "name": "stdout",
     "output_type": "stream",
     "text": [
      "Hello world! TEST\n"
     ]
    }
   ],
   "source": [
    "print s + \" TEST\""
   ]
  },
  {
   "cell_type": "code",
   "execution_count": 13,
   "metadata": {},
   "outputs": [
    {
     "name": "stdout",
     "output_type": "stream",
     "text": [
      "Hello World! Again\n"
     ]
    }
   ],
   "source": [
    "s1 = \"Hello World!\"\n",
    "s1 += \" Again\"\n",
    "\n",
    "print s1"
   ]
  },
  {
   "cell_type": "markdown",
   "metadata": {},
   "source": [
    "### تكرار السلاسل النصية \n",
    "\n",
    "يقوم معامل الضرب * في لغة بايثون بتكرار السلسة النصية ن مرة كما يلي:"
   ]
  },
  {
   "cell_type": "code",
   "execution_count": 14,
   "metadata": {},
   "outputs": [
    {
     "name": "stdout",
     "output_type": "stream",
     "text": [
      "=========================\n"
     ]
    }
   ],
   "source": [
    "line_break = \"=\" * 25\n",
    "\n",
    "print line_break"
   ]
  },
  {
   "cell_type": "markdown",
   "metadata": {},
   "source": [
    "ﻻحظ أنه تم تكرار الرمز \"=\" 25 مرة بسبب معامل الضرب *"
   ]
  }
 ],
 "metadata": {
  "kernelspec": {
   "display_name": "Python 2",
   "language": "python",
   "name": "python2"
  },
  "language_info": {
   "codemirror_mode": {
    "name": "ipython",
    "version": 2
   },
   "file_extension": ".py",
   "mimetype": "text/x-python",
   "name": "python",
   "nbconvert_exporter": "python",
   "pygments_lexer": "ipython2",
   "version": "2.7.12"
  }
 },
 "nbformat": 4,
 "nbformat_minor": 2
}
