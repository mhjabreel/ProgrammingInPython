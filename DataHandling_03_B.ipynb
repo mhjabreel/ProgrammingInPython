{
 "cells": [
  {
   "cell_type": "markdown",
   "metadata": {
    "collapsed": true
   },
   "source": [
    "# البرمجة بلغة بايثون"
   ]
  },
  {
   "cell_type": "markdown",
   "metadata": {},
   "source": [
    "# Programming In Python"
   ]
  },
  {
   "cell_type": "markdown",
   "metadata": {},
   "source": [
    "** محمد جبريل **\n",
    "\n",
    "[تعلم البرمجة من البداية حتى الاحتراف](https://www.facebook.com/groups/1300363670024580/)"
   ]
  },
  {
   "cell_type": "markdown",
   "metadata": {},
   "source": [
    "## الدرس الثالث (ب)\n",
    "\n",
    "## معالجة البيانات Data Handling"
   ]
  },
  {
   "cell_type": "markdown",
   "metadata": {},
   "source": [
    "سنكمل في هذا الدرس التعامل مع البيانات ومعالجتها، تحدثنا في الدرس السابق عن معالجة البينات بشكل عام وعن التعامل مع البيانات النصية بشكل خاص، دعونا الان ننتقل الى أحد أهم أنواع البيانات في لغة بايثون، القوائم Lists.\n",
    "\n",
    "### القوائم Lists\n",
    "\n",
    "تعتبر القوائم في لغة بايثون أحد أكثر الأنواع استخدما. تحتوي القائمة على مجموعة من العناصر المختلفة الأنواع مفصولة برمز الفاصلة ومحتواة في أقواس مربعة []. إلى حد ما، يمكن اعتبار أن القوائم تشبه المصفوفات في لغة سي .\n",
    "\n",
    "مع الأخذ بعين الاعتبار أن القائمة في لغة بايثون يمكن أن تحتوي على عناصر من أنواع مختلفة، وهي كذلك ديناميكية من حيث طولها وهذا يعني أنه يمكن اضافة عناصر حديدة إليها أو حذف عناصر موجودة منها. \n",
    "\n",
    "يمكن الوصول إلى العناصر في القوائم بنفس الطريقة التي شرحناها في البيانات النصية في الدرس السابق.\n",
    "\n",
    "مثال:\n"
   ]
  },
  {
   "cell_type": "code",
   "execution_count": 1,
   "metadata": {},
   "outputs": [
    {
     "name": "stdout",
     "output_type": "stream",
     "text": [
      "['abcd', 786, 2.23, 'john', 70.2]\nabcd\n[786, 2.23]\n[2.23, 'john', 70.2]\n[123, 'john', 123, 'john']\n['abcd', 786, 2.23, 'john', 70.2, 123, 'john']\n"
     ]
    }
   ],
   "source": [
    "l = [ 'abcd', 786 , 2.23, 'john', 70.2 ]\n",
    "tinylist = [123, 'john']\n",
    "\n",
    "print l          # Prints complete list\n",
    "print l[0]       # Prints first element of the list\n",
    "print l[1:3]     # Prints elements starting from 2nd till 3rd \n",
    "print l[2:]      # Prints elements starting from 3rd element\n",
    "print tinylist * 2  # Prints list two times\n",
    "print l + tinylist # Prints concatenated lists"
   ]
  },
  {
   "cell_type": "markdown",
   "metadata": {},
   "source": [
    "في السطر الأول من المثال السابق تم طباعة كامل العناصر في القائمة l، بينما تم طباعة العنصر الأول من عناصر القائمة في السطر الثاني. في السطر الثالث سيتم طباعة العنصرين الثاني والثالث في القائمة، واذا أردنا طباعة العناصر من الثالث وحتى نهاية القائمة فإننا يمكننا إنجاز ذلك كما هو مبين السطر الرابع.\n",
    "\n",
    "ﻻحظ أن المعامل * يقوم بتكرار العناصر في القائمة بالترتيب ن من المرات كما هو موضح في السطر الخامس.\n",
    "\n",
    "تماما كما في النصوص يتم استخدام المعامل + لدمج قائمتين أو أكثر.\n",
    "\n",
    "أخيرا كما ذكرنا سالفا، فإنه يجد الإشارة بأن القائمتين في المثال السابق تحتوي على أنواع مختلفة من البيانات."
   ]
  },
  {
   "cell_type": "markdown",
   "metadata": {},
   "source": [
    "### إضافة وحذف العناصر من القائمة\n",
    "\n",
    "يمكن إضافة عناصر جديدة إلى القائمة باستخدام الدالة append.\n"
   ]
  },
  {
   "cell_type": "code",
   "execution_count": 2,
   "metadata": {},
   "outputs": [
    {
     "name": "stdout",
     "output_type": "stream",
     "text": [
      "The list before adding new elements:  ['abcd', 786, 2.23, 'john', 70.2]\n['abcd', 786, 2.23, 'john', 70.2, 8]\n['abcd', 786, 2.23, 'john', 70.2, 8, [2, 'A']]\n"
     ]
    }
   ],
   "source": [
    "print \"The list before adding new elements: \", l\n",
    "\n",
    "l.append(8)\n",
    "print l\n",
    "\n",
    "l.append([2, 'A'])\n",
    "\n",
    "print l"
   ]
  },
  {
   "cell_type": "markdown",
   "metadata": {},
   "source": [
    "تقوم الدالة append باضافة العنصر المضاف إلى نهاية القائمة ويمكننا من إضافة عنصر إلى القائمة في موفع محدد باستخدام الدالة insert"
   ]
  },
  {
   "cell_type": "code",
   "execution_count": 3,
   "metadata": {},
   "outputs": [],
   "source": [
    "l.insert(0, 120)\n",
    "\n",
    "print l\n",
    "\n",
    "l.insert(4, 'Hi')\n",
    "\n",
    "print l"
   ]
  },
  {
   "cell_type": "markdown",
   "metadata": {},
   "source": [
    "تستقبل الدالة insert بارمترين أو معلمتين, يشير الأول إلى الموقع المراد الإضافة إليه، بينما يمثل الأخير العنصر الجديد المراد إضافته.\n",
    "\n",
    "\n",
    "\n",
    "يمكننا حذف عنصر من قائمة بإحدى طريقتين، الأولى باستخدام الدالة del وتحديد العنصر او مجموعة العناصر المراد حذفها بنفس الطريقة التي بيناها أعﻻه.\n",
    "\n"
   ]
  },
  {
   "cell_type": "code",
   "execution_count": 4,
   "metadata": {},
   "outputs": [
    {
     "name": "stdout",
     "output_type": "stream",
     "text": [
      "The list before removing some elements:  [120, 'abcd', 786, 2.23, 'Hi', 'john', 70.2, 8, [2, 'A']]\n[120, 'abcd', 786, 2.23, 'Hi', 'john', 70.2, 8]\n[120, 'abcd', 70.2, 8]\n"
     ]
    }
   ],
   "source": [
    "print \"The list before removing some elements: \", l\n",
    "del l[-1]\n",
    "\n",
    "print l\n",
    "\n",
    "del l[2:6]\n",
    "\n",
    "print l"
   ]
  },
  {
   "cell_type": "markdown",
   "metadata": {},
   "source": [
    "كما يمكن حذف عنصر محدد من القائمة باستخدام الدالة remove كالتالي:\n"
   ]
  },
  {
   "cell_type": "code",
   "execution_count": 5,
   "metadata": {},
   "outputs": [],
   "source": [
    "l.remove(120)\n",
    "\n",
    "print l"
   ]
  },
  {
   "cell_type": "markdown",
   "metadata": {},
   "source": [
    "> ماذا إذا كان العنصر متكررا في القائمة، هل تتوقع حذفها جميعا؟"
   ]
  },
  {
   "cell_type": "code",
   "execution_count": null,
   "metadata": {},
   "outputs": [],
   "source": [
    "l2 = [1, 2, 1, 4, 1]\n",
    "l2.remove(1)\n",
    "\n",
    "print l2"
   ]
  },
  {
   "cell_type": "markdown",
   "metadata": {},
   "source": [
    "### السﻻسل Tuples\n",
    "\n",
    "السﻻسل هي نوع آخر من الباينات المركبة في لغة بايثون وهي تشبه إلى حد كبير القوائم مع اختﻻفين رئيسيين هما: الأول أن القوائم تحتوي مجموعة العناصر بين قوسين مربعين [ ]، بينما تحوي السﻻسل العناصر بين قوسين عاديين ( ).\n",
    "\n",
    "الاختﻻف الثاني وهو الأهم ويعتمد على ما بيناه أعﻻه أن القوائم يمكن إضافة وحذف وتعديل عناصرهها، أما السﻻسل فيمكن اعتبارها أنها للقراءة فقط أي ﻻ يمكن تعديل عناصرها أو إضافة عناصر إليها أو حذف عناصر منها.\n",
    "\n",
    "مثال:\n"
   ]
  },
  {
   "cell_type": "code",
   "execution_count": 6,
   "metadata": {},
   "outputs": [
    {
     "name": "stdout",
     "output_type": "stream",
     "text": [
      "('abcd', 786, 2.23, 'john', 70.2)\nabcd\n(786, 2.23)\n(2.23, 'john', 70.2)\n(123, 'john', 123, 'john')\n('abcd', 786, 2.23, 'john', 70.2, 123, 'john')\n"
     ]
    }
   ],
   "source": [
    "t = ( 'abcd', 786 , 2.23, 'john', 70.2  )\n",
    "tinytuple = (123, 'john')\n",
    "\n",
    "print t           # Prints complete list\n",
    "print t[0]        # Prints first element of the list\n",
    "print t[1:3]      # Prints elements starting from 2nd till 3rd \n",
    "print t[2:]       # Prints elements starting from 3rd element\n",
    "print tinytuple * 2   # Prints list two times\n",
    "print t + tinytuple # Prints concatenated lists"
   ]
  },
  {
   "cell_type": "code",
   "execution_count": 7,
   "metadata": {},
   "outputs": [
    {
     "ename": "TypeError",
     "evalue": "'tuple' object doesn't support item deletion",
     "traceback": [
      "\u001b[0;31m\u001b[0m",
      "\u001b[0;31mTypeError\u001b[0mTraceback (most recent call last)",
      "\u001b[0;32m<ipython-input-7-2bb4aed168a5>\u001b[0m in \u001b[0;36m<module>\u001b[0;34m()\u001b[0m\n\u001b[0;32m----> 1\u001b[0;31m \u001b[0;32mdel\u001b[0m \u001b[0mt\u001b[0m\u001b[0;34m[\u001b[0m\u001b[0;36m0\u001b[0m\u001b[0;34m]\u001b[0m\u001b[0;34m\u001b[0m\u001b[0m\n\u001b[0m",
      "\u001b[0;31mTypeError\u001b[0m: 'tuple' object doesn't support item deletion"
     ],
     "output_type": "error"
    }
   ],
   "source": [
    "del t[0]"
   ]
  },
  {
   "cell_type": "code",
   "execution_count": 8,
   "metadata": {},
   "outputs": [
    {
     "ename": "TypeError",
     "evalue": "'tuple' object does not support item assignment",
     "traceback": [
      "\u001b[0;31m\u001b[0m",
      "\u001b[0;31mTypeError\u001b[0mTraceback (most recent call last)",
      "\u001b[0;32m<ipython-input-8-64fc92481538>\u001b[0m in \u001b[0;36m<module>\u001b[0;34m()\u001b[0m\n\u001b[0;32m----> 1\u001b[0;31m \u001b[0mt\u001b[0m\u001b[0;34m[\u001b[0m\u001b[0;36m2\u001b[0m\u001b[0;34m]\u001b[0m \u001b[0;34m=\u001b[0m \u001b[0;36m1\u001b[0m\u001b[0;34m\u001b[0m\u001b[0m\n\u001b[0m",
      "\u001b[0;31mTypeError\u001b[0m: 'tuple' object does not support item assignment"
     ],
     "output_type": "error"
    }
   ],
   "source": [
    "t[2] = 1"
   ]
  },
  {
   "cell_type": "code",
   "execution_count": 9,
   "metadata": {},
   "outputs": [
    {
     "name": "stdout",
     "output_type": "stream",
     "text": [
      "['abcd', 70.2, 5]\n"
     ]
    }
   ],
   "source": [
    "l[2] = 5\n",
    "\n",
    "print l"
   ]
  },
  {
   "cell_type": "markdown",
   "metadata": {},
   "source": [
    "ﻻحظ ظهور الاخطاء عند محاولة حذف عنصر أو تعديل قيمة آخر في السلسة t.\n"
   ]
  },
  {
   "cell_type": "markdown",
   "metadata": {},
   "source": [
    "سنتناول في الدرس القادم المجموعات والقواميس، وكذلك سنتطرق إلى موضوع مهم وهو التحويل بين أنواع البيانات."
   ]
  },
  {
   "cell_type": "code",
   "execution_count": null,
   "metadata": {},
   "outputs": [],
   "source": [
    ""
   ]
  }
 ],
 "metadata": {
  "kernelspec": {
   "display_name": "Python 2",
   "language": "python",
   "name": "python2"
  },
  "language_info": {
   "codemirror_mode": {
    "name": "ipython",
    "version": 2.0
   },
   "file_extension": ".py",
   "mimetype": "text/x-python",
   "name": "python",
   "nbconvert_exporter": "python",
   "pygments_lexer": "ipython2",
   "version": "2.7.6"
  }
 },
 "nbformat": 4,
 "nbformat_minor": 0
}