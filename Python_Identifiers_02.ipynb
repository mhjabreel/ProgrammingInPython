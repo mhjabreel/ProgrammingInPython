{
 "cells": [
  {
   "cell_type": "markdown",
   "metadata": {},
   "source": [
    "# البرمجة بلغة بايثون\n",
    "# Programming In Python\n",
    "\n",
    "<strong>محمد جبريل</strong>\n",
    "\n",
    "[تعلم البرمجة من البداية حتى الاحتراف](https://www.facebook.com/groups/1300363670024580/)\n",
    "\n",
    "***\n",
    "\n",
    "## الدرس الثاني\n",
    "## Python Identifiers المعرفات في بايثون"
   ]
  },
  {
   "cell_type": "markdown",
   "metadata": {},
   "source": [
    "المعرفات في لغة بايثون عبارة عن أسماء تستخدم لتعريف المتغيرات، والدوال، والأصناف، وغيرها من الكائنات.\n",
    "\n",
    "يبدأ المعرف بأحد الاحرف التالية:  a إلى z أو A إلى Z أو _\n",
    "\n",
    "ثم يمكن أن يتبع ذلك واحد أو أكثر من الأحرف أو الأرفام أو الشرطات السفلية\n",
    "\n",
    "المعرفات في لغة بايثون حساسة لحالة الأحرف وبالتالي فإن myVar, MyVar معرفين مختلفين"
   ]
  },
  {
   "cell_type": "markdown",
   "metadata": {},
   "source": [
    "### أمثلة لمعرفات صحيحة في بايثون:\n",
    "* ``var1``\n",
    "* ``_var_``\n",
    "* ``__var_1``\n",
    "* ``Identifier1``\n",
    "* `` For``\n",
    "\n",
    "### أمثلة لمعرفات غير صحيحة في بايثون\n",
    "* ``1var`` السبب: البداية برقم غير مقبولة\n",
    "* ``!var`` السبب: الرمز الوحيد الذي يمكن استخدامه مع المعرفات هو الشرطة السفلية $_$\n",
    "* ``for`` السبب: كلمة محجوزة في اللغة"
   ]
  },
  {
   "cell_type": "markdown",
   "metadata": {},
   "source": [
    "### قائمة الكلمات المحجوزة في بايثون\n",
    "\n",
    "\n",
    "الجدول التالي يحتوي على قائمة الكلمات المحجوزة في لغة بايثون والتي لا يمكن استخدامها كمعرفات\n",
    "\n",
    "<table>\n",
    "<tbody><tr><td>and</td><td>exec</td><td>not</td></tr>\n",
    "<tr><td>assert</td><td>finally</td><td>or</td></tr>\n",
    "<tr><td>break</td><td>for</td><td>pass</td></tr>\n",
    "<tr><td>class</td><td>from</td><td>print</td></tr>\n",
    "<tr><td>continue</td><td>global</td><td>raise</td></tr>\n",
    "<tr><td>def</td><td>if</td><td>return</td></tr>\n",
    "<tr><td>del</td><td>import</td><td>try</td></tr>\n",
    "<tr><td>elif</td><td>in</td><td>while</td></tr>\n",
    "<tr><td>else</td><td>is</td><td>with </td></tr>\n",
    "<tr><td>except</td><td>lambda</td><td>yield</td></tr>\n",
    "</tbody></table>"
   ]
  },
  {
   "cell_type": "markdown",
   "metadata": {},
   "source": [
    "## تعريف المتغيرات في بايثون\n",
    "\n",
    "تعني عملية تعريف المتغيرات في لغات البرمجة حجز مساحة ذاكرية لخزن البيانات بها والتعامل معها من خلال مؤشر إلى تلك المساحة، هذا المؤشر هو اسم المتغير أو المعرف.\n",
    "\n",
    "تعتبر لغة بايثون لغة ديناميكية من حيث مفهوم إدارة الذاكرة، وبالتالي، فعلى العكس من كثير من لغات البرمجة الأخرى مثل جافا وسي التي تشترط توصيف نوع المتغير مسبقا، فإن تعريف المتغير في بايثون يتم مباشرة بمجرد اسناد قيمة إلى ذلك المتغير.\n",
    "\n",
    "الصيغة العامة لتعريف متغير في بايثون هي كالتالي:\n",
    "\n",
    "$<var\\_name> = <value>$\n",
    "\n",
    "حيث: \n",
    "* $<var\\_name>$: هو اسم المتغير\n",
    "* $<value>$: هي قيمة المتغير\n",
    "\n",
    "قيمة المتغير يمكن أن تكون أي قيمة ضمن الأنواع المدعومة في لغة بايثون أو أحد الأنواع المعرفة من قبل المستخدمين كالأصناف.\n",
    "\n",
    "قائمة الأنواع المدعومة في لغة بايثون هي كالتالي:\n",
    "\n",
    "* Numbers \n",
    "    * int ex: 10, 100, -786, -0498, 0x25, -0x891\n",
    "    * long ex: 1258L, 51924361L, -052318172735L\n",
    "    * float ex: 0.0, 15.20, -32.54e100, 32.3+e18, 70.2-E12\n",
    "    * complex ex: 3.14j, 3e+26J\n",
    "* String ex: \"Hi\", 'Hello'\n",
    "* List ex: [1, 2, 3] , ['a', 'b', \"ABC\"], [0.2, \"A\", [1, 2, 3]]\n",
    "* Tuple ex: (5, 3), ('a', 2)\n",
    "* Dictionary ex: {\"A\": 100, \"B\": 80}\n",
    "\n",
    "### أمثلة لتعريف المتغيرات"
   ]
  },
  {
   "cell_type": "code",
   "execution_count": 1,
   "metadata": {
    "collapsed": false
   },
   "outputs": [
    {
     "name": "stdout",
     "output_type": "stream",
     "text": [
      "100\n",
      "1000.0\n",
      "John\n"
     ]
    }
   ],
   "source": [
    "counter = 100          # An integer assignment\n",
    "miles   = 1000.0       # A floating point\n",
    "name    = \"John\"       # A string\n",
    "\n",
    "print counter\n",
    "print miles\n",
    "print name"
   ]
  },
  {
   "cell_type": "markdown",
   "metadata": {},
   "source": [
    "في المثال السابق تم تعريف 3 متغيرات الاول counter وهو متغير رقمي من النوع int، والثاني متغير رقمي من نوع float والاخير نصي.\n",
    "\n",
    "يمكننا معرفة نوع المتغير باستخدام الدالة type كما في المثال التالي:"
   ]
  },
  {
   "cell_type": "code",
   "execution_count": 2,
   "metadata": {
    "collapsed": false
   },
   "outputs": [
    {
     "name": "stdout",
     "output_type": "stream",
     "text": [
      "<type 'int'>\n",
      "<type 'float'>\n",
      "<type 'str'>\n"
     ]
    }
   ],
   "source": [
    "print type(counter)\n",
    "print type(miles)\n",
    "print type(name)"
   ]
  },
  {
   "cell_type": "markdown",
   "metadata": {},
   "source": [
    "### تعريف متغير خالي القيمة\n",
    "\n",
    "في بايثون يمكن تعريف متغير خالي القيمة كالتالي:"
   ]
  },
  {
   "cell_type": "code",
   "execution_count": 3,
   "metadata": {
    "collapsed": false
   },
   "outputs": [
    {
     "name": "stdout",
     "output_type": "stream",
     "text": [
      "None\n"
     ]
    }
   ],
   "source": [
    "var = None\n",
    "\n",
    "print var"
   ]
  },
  {
   "cell_type": "markdown",
   "metadata": {},
   "source": [
    "### تدمير المتغيرات من الذاكرة\n",
    "\n",
    "يمكن تدمير (حذف) المتغيرات من الذاكرة باستخدام الأمر ``del ``"
   ]
  },
  {
   "cell_type": "code",
   "execution_count": 4,
   "metadata": {
    "collapsed": false
   },
   "outputs": [
    {
     "ename": "NameError",
     "evalue": "name 'counter' is not defined",
     "output_type": "error",
     "traceback": [
      "\u001b[0;31m---------------------------------------------------------------------------\u001b[0m",
      "\u001b[0;31mNameError\u001b[0m                                 Traceback (most recent call last)",
      "\u001b[0;32m<ipython-input-4-d2cb7c7d297d>\u001b[0m in \u001b[0;36m<module>\u001b[0;34m()\u001b[0m\n\u001b[1;32m      1\u001b[0m \u001b[1;32mdel\u001b[0m \u001b[0mcounter\u001b[0m\u001b[1;33m\u001b[0m\u001b[0m\n\u001b[1;32m      2\u001b[0m \u001b[1;33m\u001b[0m\u001b[0m\n\u001b[0;32m----> 3\u001b[0;31m \u001b[1;32mprint\u001b[0m \u001b[0mcounter\u001b[0m\u001b[1;33m\u001b[0m\u001b[0m\n\u001b[0m",
      "\u001b[0;31mNameError\u001b[0m: name 'counter' is not defined"
     ]
    }
   ],
   "source": [
    "del counter\n",
    "\n",
    "print counter"
   ]
  },
  {
   "cell_type": "markdown",
   "metadata": {},
   "source": [
    "من الملاحظ أنه عند محاولة طباعة قيمة المتغير بعد تدميره ظهور الخطأ NameError \n",
    "\n",
    "والذي يدل على أننا نحاول الوصول لمعرف غير موجود"
   ]
  },
  {
   "cell_type": "markdown",
   "metadata": {},
   "source": [
    "### الاسناد المتعدد\n",
    "\n",
    "في بايثون يمكن اسناد قيمة واحدة لأكثر من متغير أو اسناد قيم مختلفة لمتغيرات مختلفة في عبارة واحدة كالتالي:\n"
   ]
  },
  {
   "cell_type": "code",
   "execution_count": 5,
   "metadata": {
    "collapsed": false
   },
   "outputs": [
    {
     "name": "stdout",
     "output_type": "stream",
     "text": [
      "a =  12\n",
      "b =  12\n",
      "c =  12\n"
     ]
    }
   ],
   "source": [
    "a = b = c = 12\n",
    "\n",
    "print \"a = \", a\n",
    "print \"b = \", b\n",
    "print \"c = \", c"
   ]
  },
  {
   "cell_type": "code",
   "execution_count": 6,
   "metadata": {
    "collapsed": false
   },
   "outputs": [
    {
     "name": "stdout",
     "output_type": "stream",
     "text": [
      "a =  -15\n",
      "b =  A\n",
      "c =  [8, 2, 4]\n"
     ]
    }
   ],
   "source": [
    "a, b, c = -15, \"A\", [8, 2, 4]\n",
    "\n",
    "print \"a = \", a\n",
    "print \"b = \", b\n",
    "print \"c = \", c"
   ]
  },
  {
   "cell_type": "markdown",
   "metadata": {},
   "source": [
    "> من الملاحظ من الامثلة السابقة أن جميع الجمل البرمجية في بايثون تنتهي بسطر جديد \"بمعنى أنه تبدأ الجملة الجديدة بمجرد الانتقال الى سطر جديد\"، ولكن يمكننا كتابة أكثر من جملة في سطر واحد وذلك بالفصل فيهم باستخدام الفاصلة المنقوطة."
   ]
  },
  {
   "cell_type": "code",
   "execution_count": 7,
   "metadata": {
    "collapsed": false
   },
   "outputs": [
    {
     "name": "stdout",
     "output_type": "stream",
     "text": [
      "a =  128\n",
      "b =  Welcome, All\n"
     ]
    }
   ],
   "source": [
    "a = 128; b = \"Welcome, All\"; print \"a = \", a; print \"b = \", b"
   ]
  },
  {
   "cell_type": "markdown",
   "metadata": {},
   "source": [
    "> كما يمكن كتابة الجملة الواحدة في أكثر من سطر بانهاء السطر بالرمز /"
   ]
  },
  {
   "cell_type": "code",
   "execution_count": 8,
   "metadata": {
    "collapsed": false
   },
   "outputs": [
    {
     "name": "stdout",
     "output_type": "stream",
     "text": [
      "a =  128\n"
     ]
    }
   ],
   "source": [
    "print \"a = \" \\\n",
    "      ,a"
   ]
  },
  {
   "cell_type": "markdown",
   "metadata": {},
   "source": [
    "> ** التعليقات في بايثون **أخيراً يمكن ملاحظة أننا قمنا بكتابة تعليقات في المثال 1 \n",
    "، يمكن كتابة تعليقات comments سطرية في بايثون وذلك بالبدأ بالرمز # ثم كتابة التعليق\n",
    "، كما يمكن كتابة تعليقات متعددة الاسطر"
   ]
  },
  {
   "cell_type": "code",
   "execution_count": null,
   "metadata": {
    "collapsed": true
   },
   "outputs": [],
   "source": []
  }
 ],
 "metadata": {
  "anaconda-cloud": {},
  "kernelspec": {
   "display_name": "Python [default]",
   "language": "python",
   "name": "python2"
  },
  "language_info": {
   "codemirror_mode": {
    "name": "ipython",
    "version": 2
   },
   "file_extension": ".py",
   "mimetype": "text/x-python",
   "name": "python",
   "nbconvert_exporter": "python",
   "pygments_lexer": "ipython2",
   "version": "2.7.12"
  }
 },
 "nbformat": 4,
 "nbformat_minor": 1
}
