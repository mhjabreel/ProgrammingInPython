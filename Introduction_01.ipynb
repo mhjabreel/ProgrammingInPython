{
 "cells": [
  {
   "cell_type": "markdown",
   "metadata": {},
   "source": [
    "# البرمجة بلغة بايثون\n",
    "# Programming In Python\n",
    "\n",
    "<strong>محمد جبريل</strong>\n",
    "\n",
    "[تعلم البرمجة من البداية حتى الاحتراف](https://www.facebook.com/groups/1300363670024580/?multi_permalinks=1392934400767506&notif_t=like_tagged&notif_id=1491502798336751)\n",
    "\n"
   ]
  },
  {
   "cell_type": "markdown",
   "metadata": {},
   "source": [
    "## لغة بايثون هي\n",
    "   * لغة برمجة عالية المستوى\n",
    "   * تتميز ببساطة كتابتها وقراءتها\n",
    "   * سهلة التعلم\n",
    "   * كائنية التوجه (سيتم التحدث بالتفصيل عن ماذا يقصد بذلك)\n",
    "   * لغة تفسيرية\n",
    "   * متعددة الأغراض"
   ]
  },
  {
   "cell_type": "markdown",
   "metadata": {},
   "source": [
    "## مجالات الاستخدام\n",
    "* كما اسلفنا هي لغة متعددة الأغراض، وهذا يعني أنها مصممة لكتابة برامج لمجموعة واسعة من مجالات التطبيقات.\n",
    "* تستخدم حاليا كلغة أساسية في تطوير مواقع وتطبيقات الويب في كثير من أطر العمل (Frameworks) مثل Django ، Flask وغيرها.\n",
    "* تعتبر ضمن قائمة اللغات الأولى حاليا في الوسط البحثي الخاص بعلوم الحاسوب بشكل عام وتقريبا اللغة الأولى في الوسط البحثي الخاص بتعليم الآلة Machine learning و الشبكات العصبية Neural Networks.\n",
    "* وهناك الكثير من الاستخدامات الاخرى"
   ]
  },
  {
   "cell_type": "markdown",
   "metadata": {},
   "source": [
    "## اللغة وبيئة العمل\n",
    "* يمكن تثبيت اللغة من موقعها الرسمي https://www.python.org/\n",
    "* و هناك توزيعات أخرى للغة بايثون تحديدا لنظام ويندوز، تحتوي على العديد من المكاتب أهمها Anaconda, WinPython, PythonXY\n",
    "* بالنسبة لمستخدمي Linux فاللغة تأتي مضمنة مع النظام، ويمكن فيها تحميل واضافة أي مكتبة بسهولة تامة.\n",
    "* بالنسبة لمستخدمي ويندوز أنصح بتحميل التوزيعة WinPython حتى يتسنى لكم متابعة الدورة والعمل على نفس بيئة العمل.\n",
    "* الرابط الخاص بتوزيعة WinPython هو https://sourceforge.net/projects/winpython/files/ \n",
    "* قم بتثبيت النسخة WinPython 2.7.13.1 \n"
   ]
  },
  {
   "cell_type": "markdown",
   "metadata": {},
   "source": [
    "![Winpython](imgs/winpython.png)"
   ]
  },
  {
   "cell_type": "markdown",
   "metadata": {
    "collapsed": true
   },
   "source": [
    "## Jupyter Notebook\n",
    "* هو عبارة عن بيئة عمل بسيطة وتفاعلية يمكن من خلالها كتابة برامج بايثون وعرضها على متصفحات الويب.\n",
    "* يمكن أيضا من خلالها مشاركة الاكواد وكتابة التعليقات بطريقة سهلة جدا.\n",
    "* تم كتابة هذه المقدمة باستخدام Jupyter.\n",
    "* سيتم استخدامه كبيئة عمل لهذه الدورة، لذا يرجى التأكد من وجود البرنامج بعد تثبيت WinPython ستجدها في نفس المسار الذي تم تثبيتها فيه.\n",
    "\n",
    "![jupyter](imgs/jupyter2.PNG)"
   ]
  },
  {
   "cell_type": "markdown",
   "metadata": {},
   "source": [
    "> **بمجرد تشغيل البرنامج ستفتح لك نافذة في مستعرض الويب الافتراضي لديك تبدو كهذه النافذة تقريبا كالتي تقرأ منها حاليا هذه المقدمة**"
   ]
  },
  {
   "cell_type": "markdown",
   "metadata": {},
   "source": [
    "## كتابة أول برنامج في بايثون\n",
    "\n",
    "\n",
    "حان وقت كتابة أول برنامج python \n",
    "\n",
    "والذي هو برنامج Hello world"
   ]
  },
  {
   "cell_type": "code",
   "execution_count": 1,
   "metadata": {
    "collapsed": false
   },
   "outputs": [
    {
     "name": "stdout",
     "output_type": "stream",
     "text": [
      "Hello, World\n"
     ]
    }
   ],
   "source": [
    "print \"Hello, World\""
   ]
  },
  {
   "cell_type": "markdown",
   "metadata": {},
   "source": [
    "في المثال السباق تم استخدام تعليمة الطباعة **``print``** \n",
    "\n",
    "والتي تعتبر تعليمة الاخراج الاساسية في بايثون والتي تقوم باظهار المعلومات على الشاشة سواء كانت هذه المعلومات نصية ثابتة كالمثال السابق أو عبارة عن قيم أخرى موجودة في متغيرات كما سنقدمه في الدروس القادمة"
   ]
  },
  {
   "cell_type": "markdown",
   "metadata": {},
   "source": [
    "[**يمكنكم وضع الاستفسارات والأسئلة التي لديكم من خلال هذا الرابط**](https://github.com/mhjabreel/ProgrammingInPython/issues) \n",
    "\n",
    "وذلك بالنقر على الزر New Issue وكتابة السؤال\n",
    "\n",
    "![Issues](imgs/issues.PNG)"
   ]
  },
  {
   "cell_type": "markdown",
   "metadata": {},
   "source": [
    "بعد كتابة السؤال في المربع الموضح ادناه\n",
    "![](imgs/issues2.PNG)\n",
    "اضغط على الزر Submit new issue"
   ]
  },
  {
   "cell_type": "code",
   "execution_count": null,
   "metadata": {
    "collapsed": true
   },
   "outputs": [],
   "source": []
  }
 ],
 "metadata": {
  "anaconda-cloud": {},
  "kernelspec": {
   "display_name": "Python [default]",
   "language": "python",
   "name": "python2"
  },
  "language_info": {
   "codemirror_mode": {
    "name": "ipython",
    "version": 2
   },
   "file_extension": ".py",
   "mimetype": "text/x-python",
   "name": "python",
   "nbconvert_exporter": "python",
   "pygments_lexer": "ipython2",
   "version": "2.7.12"
  }
 },
 "nbformat": 4,
 "nbformat_minor": 1
}
