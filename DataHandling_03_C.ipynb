{
 "cells": [
  {
   "cell_type": "markdown",
   "metadata": {
    "collapsed": true
   },
   "source": [
    "# البرمجة بلغة بايثون\n",
    "# Programming In Python\n",
    "\n",
    "**Mohammed Jabreel**\n"
   ]
  },
  {
   "cell_type": "markdown",
   "metadata": {},
   "source": [
    "## الدرس الثالث - ج\n",
    "## معالجة البيانات\n",
    "## Data Handling"
   ]
  },
  {
   "cell_type": "markdown",
   "metadata": {},
   "source": [
    "### القواميس Dictanories \n",
    "\n",
    "تحدثنا في الجزئين السابقين من الدرس الثالث عن نوعين من أهم الأنواع في لغات البرمجة بشكل عام وفي لغة بايثون بشكل خاص، هما السﻻسل النصية والقوائم، واستعرضنا كذلك نوع آخر يسمى السﻻسل.\n",
    "\n",
    "في هذا الجزء سنبدأ أوﻻ بشرح القواميس، حيث تعتبر نوع من أنواع الجداول المفهرسة، ونعني هنا بكلمة بيانات مفرسة (أو قاموس) أن لكل قيمة مخزنة في هذا النوع من البيانات مفتاح Key يميزها عن غيرها. \n",
    "\n",
    "هذا المفتاح يعتبر فريدا في هذا القاموس. يمكن لهذا المفتاح أن يكون من أي نوع من أنواع البيانات التي ذكرناها ولكنه في الغالب يكون إما نصي أو رقمي. \n",
    "\n",
    "القيم يمكن أن تتكرر في القاموس كما يمكن كذلك أن تكون من أي نوع من أنواع البيانات.\n",
    "\n",
    "يتم تعريف القاموس بوضع قيمه بين حاصرتين { }\n",
    "\n",
    "لنطلع على هذا المثال:"
   ]
  },
  {
   "cell_type": "code",
   "execution_count": 1,
   "metadata": {},
   "outputs": [
    {
     "name": "stdout",
     "output_type": "stream",
     "text": [
      "This is one\nThis is two\n{'dept': 'sales', 'code': 6734, 'name': 'john'}\n['dept', 'code', 'name']\n['sales', 6734, 'john']\n"
     ]
    }
   ],
   "source": [
    "d = {}\n",
    "d['one'] = \"This is one\"\n",
    "d[2] = \"This is two\"\n",
    "\n",
    "tinydict = {'name': 'john','code':6734, 'dept': 'sales'}\n",
    "\n",
    "print d['one']       # Prints value for 'one' key\n",
    "print d[2]           # Prints value for 2 key\n",
    "print tinydict          # Prints complete dictionary\n",
    "print tinydict.keys()   # Prints all the keys\n",
    "print tinydict.values() # Prints all the values"
   ]
  },
  {
   "cell_type": "markdown",
   "metadata": {},
   "source": [
    "في المثال السابق، بدأنا بتعريف قاموس فارغ اسمه d\n",
    "ثم قمنا باضافة قيمة جديدة إلى هذا القاموس مرتبطة بمفتاح نصي اسمه 'one'\n",
    "بعد ذلك أضفنا قيمة جديدة مرتبطة بمفتاح رقمي وهو 2\n",
    "\n",
    "ﻻحظ أننا في السطر الرابع قمنا مباشرة بسرد قيم القاموس بالشكل التالي:\n",
    "\n",
    "{key1:value1, key2:value2, ..., key-n:value-n}\n",
    "\n",
    "لو أردنا معرفة المفاتيح الموجودة في القاموس فإنه يمكن ذلك باستخدام الدالة keys. \n",
    "\n",
    "أما لو أردنا الحصول على القيم فإننا نستخدم الدالة values.\n",
    "\n",
    "ﻻحظ أن عملية الوصول إلى القيم في القاموس مشابهة تماما لعملية الوصول إلى العناصر في القوائم، مع الاخذ بعين الاعتبار أنه يجب أن نحدد مفتاح القيمة التي نريد الوصول إليها بشكل صحيح. \n",
    "\n",
    "ماذا لو حاولنا الوصول إلى قيمة بمفتاح غير موجود في القاموس؟؟ \n",
    "\n",
    "أعتقد أنك تعرف تماما ماالذي سيحدث! نفس الخطأ الذي يحدث عند محاولة الوصول إلى عنصر خارج النطاق في قائمة."
   ]
  },
  {
   "cell_type": "markdown",
   "metadata": {},
   "source": [
    "#### إضافة عنصر جديد \n",
    "\n",
    "يمكننا إضافة عنصر جديد إلى قاموس ما مباشرة باسناد القيمة إلى مفتاح كما في المثال أعﻻه السطرين الثاني والثالث.\n",
    "\n",
    "\n",
    "### حذف عنصر من القاموس\n",
    "قم بكتابة السطر البرمجي المناسب لحذف عنصر من قاموس. \n",
    ":) \n"
   ]
  },
  {
   "cell_type": "markdown",
   "metadata": {},
   "source": [
    "سنتعرف ﻻحقا على استخدامات عديدة وأمثلة متعددة ودوال أخرى متعلقة بالقواميس.\n"
   ]
  },
  {
   "cell_type": "markdown",
   "metadata": {},
   "source": [
    "## المجموعات\n",
    "## Sets"
   ]
  },
  {
   "cell_type": "markdown",
   "metadata": {},
   "source": [
    "يمكن اعتبار المجموعات نوع خاص من القواميس، حيث أنه يعطى لكل قيمة في المجموعة مفتاح رقمي افتراضي. تبدأ المفاتيح في المجموعات بالرقم صفر.\n",
    "\n",
    "ترتيب العناصر ﻻ يهم في المجموعات، كما أن العناصر فيها ﻻ تكرر، بمعنى أنه لو أضفنا عشرات المرات قيمة ما ولتكن  2 إلى مجموعة ما فإنها ستظهر فقط مرة واحدة.\n",
    "\n",
    "يمكننا تعريف المجموعة باستخدام دالة التحويل من قائمة إلى مجموعة وهي الدالة set.\n",
    "\n",
    "المثال التالي يوضح ذلك"
   ]
  },
  {
   "cell_type": "code",
   "execution_count": 2,
   "metadata": {},
   "outputs": [
    {
     "name": "stdout",
     "output_type": "stream",
     "text": [
      "set([1, 2, 4, 5])\n4\n"
     ]
    }
   ],
   "source": [
    "s1 = set([1, 2, 4, 1, 5, 2])\n",
    "\n",
    "print s1\n",
    "print len(s1)"
   ]
  },
  {
   "cell_type": "markdown",
   "metadata": {},
   "source": [
    "ﻻحظ أنه بالرغم من تكرر الرقمين 1 و 2 في القائمة المرسلة إلى الدالة setإﻻ أنهما ظهرا مرة واحدة فقط وأن عدد العناصر في المجموعة s1 هو 4 وليس 7\n",
    "\n",
    "\n",
    "> هل يمكنك الان حذف العناصر المكررة في قائمة؟ اكتب المقطع البرمجي المناسب لذلك."
   ]
  },
  {
   "cell_type": "markdown",
   "metadata": {},
   "source": [
    "### إضافة عنصر إلى مجموعة\n",
    "\n",
    "يمكننا إضافة العناصر إلى المجموعة باستخدام الدالة add."
   ]
  },
  {
   "cell_type": "code",
   "execution_count": 3,
   "metadata": {},
   "outputs": [
    {
     "name": "stdout",
     "output_type": "stream",
     "text": [
      "set([8, 1, 2, 4, 5])\n"
     ]
    }
   ],
   "source": [
    "s1.add(8)\n",
    "print s1"
   ]
  },
  {
   "cell_type": "code",
   "execution_count": 5,
   "metadata": {},
   "outputs": [
    {
     "name": "stdout",
     "output_type": "stream",
     "text": [
      "set([1, 2, 3, 4, 5, 8])\n"
     ]
    }
   ],
   "source": [
    "s1.add(3)\n",
    "print s1"
   ]
  },
  {
   "cell_type": "markdown",
   "metadata": {},
   "source": [
    "### الوصول لعناصر المجموعة\n",
    "\n",
    "المجموعات ﻻ تعدعم خاصية الوصول المباشر لعناصرها كما في القوائم. ﻻحقا سنتعلم كيف يمكننا التعامل مع المجموعات بشكل أوسع. \n",
    "\n"
   ]
  },
  {
   "cell_type": "markdown",
   "metadata": {},
   "source": [
    "## التبديل بين أنواع البيانات\n",
    "\n",
    "في بعض الأحيان يكون من الضروري التحويل بين أنواع البيانات المختلفة. تتيح لغة بايثون مجموعة من الدوال للتبديل بين أنواع البيانات، مثﻻ كالتحويل من متغير نصي إلى رقمي أو العكس وغيرها.\n",
    "\n",
    "الجدول التالي يبين مجموعة من هذه الدوال."
   ]
  },
  {
   "cell_type": "markdown",
   "metadata": {},
   "source": [
    "<table style=\"border-collapse:collapse;border-spacing:0\"><tr><th style=\"font-family:Arial, sans-serif;font-size:14px;font-weight:normal;padding:10px 5px;border-style:solid;border-width:1px;overflow:hidden;word-break:normal\">الدالة</th><th style=\"font-family:Arial, sans-serif;font-size:14px;font-weight:normal;padding:10px 5px;border-style:solid;border-width:1px;overflow:hidden;word-break:normal;vertical-align:top\">الوصف</th><th style=\"font-family:Arial, sans-serif;font-size:14px;font-weight:normal;padding:10px 5px;border-style:solid;border-width:1px;overflow:hidden;word-break:normal;vertical-align:top\">مثال</th></tr><tr><td style=\"font-family:Arial, sans-serif;font-size:14px;padding:10px 5px;border-style:solid;border-width:1px;overflow:hidden;word-break:normal;vertical-align:top\">int(x[,base])</td><td style=\"font-family:Arial, sans-serif;font-size:14px;padding:10px 5px;border-style:solid;border-width:1px;overflow:hidden;word-break:normal;vertical-align:top\">تحويل المتغير x إلى متغير رقمي صحيح</td><td style=\"font-family:Arial, sans-serif;font-size:14px;padding:10px 5px;border-style:solid;border-width:1px;overflow:hidden;word-break:normal;vertical-align:top\">y = int('123')</td></tr><tr><td style=\"font-family:Arial, sans-serif;font-size:14px;padding:10px 5px;border-style:solid;border-width:1px;overflow:hidden;word-break:normal;vertical-align:top\">long(x[,base])</td><td style=\"font-family:Arial, sans-serif;font-size:14px;padding:10px 5px;border-style:solid;border-width:1px;overflow:hidden;word-break:normal;vertical-align:top\">تحويل المتغير x إلى متغير رقمي صحيح طويل</td><td style=\"font-family:Arial, sans-serif;font-size:14px;padding:10px 5px;border-style:solid;border-width:1px;overflow:hidden;word-break:normal;vertical-align:top\">y = long(852.3)</td></tr><tr><td style=\"font-family:Arial, sans-serif;font-size:14px;padding:10px 5px;border-style:solid;border-width:1px;overflow:hidden;word-break:normal;vertical-align:top\">float(x)</td><td style=\"font-family:Arial, sans-serif;font-size:14px;padding:10px 5px;border-style:solid;border-width:1px;overflow:hidden;word-break:normal;vertical-align:top\">تحويل المتغير x إلى متغير رقمي حقيقي</td><td style=\"font-family:Arial, sans-serif;font-size:14px;padding:10px 5px;border-style:solid;border-width:1px;overflow:hidden;word-break:normal;vertical-align:top\">y = float('0.23')</td></tr><tr><td style=\"font-family:Arial, sans-serif;font-size:14px;padding:10px 5px;border-style:solid;border-width:1px;overflow:hidden;word-break:normal;vertical-align:top\">str(x)</td><td style=\"font-family:Arial, sans-serif;font-size:14px;padding:10px 5px;border-style:solid;border-width:1px;overflow:hidden;word-break:normal;vertical-align:top\">تحويل المتغير x إلى متغير نصي</td><td style=\"font-family:Arial, sans-serif;font-size:14px;padding:10px 5px;border-style:solid;border-width:1px;overflow:hidden;word-break:normal;vertical-align:top\">s = str(12.5)</td></tr><tr><td style=\"font-family:Arial, sans-serif;font-size:14px;padding:10px 5px;border-style:solid;border-width:1px;overflow:hidden;word-break:normal;vertical-align:top\">eval(s)</td><td style=\"font-family:Arial, sans-serif;font-size:14px;padding:10px 5px;border-style:solid;border-width:1px;overflow:hidden;word-break:normal;vertical-align:top\">حساب القيمة النصية في المتغير s<br><br><br>وتحويلها كمتغير</td><td style=\"font-family:Arial, sans-serif;font-size:14px;padding:10px 5px;border-style:solid;border-width:1px;overflow:hidden;word-break:normal;vertical-align:top\">y = eval('5 + 2')</td></tr><tr><td style=\"font-family:Arial, sans-serif;font-size:14px;padding:10px 5px;border-style:solid;border-width:1px;overflow:hidden;word-break:normal;vertical-align:top\">tuple(s)</td><td style=\"font-family:Arial, sans-serif;font-size:14px;padding:10px 5px;border-style:solid;border-width:1px;overflow:hidden;word-break:normal;vertical-align:top\">تحويل s كمتسلسلة</td><td style=\"font-family:Arial, sans-serif;font-size:14px;padding:10px 5px;border-style:solid;border-width:1px;overflow:hidden;word-break:normal;vertical-align:top\">y = tuple([1,2,3])</td></tr><tr><td style=\"font-family:Arial, sans-serif;font-size:14px;padding:10px 5px;border-style:solid;border-width:1px;overflow:hidden;word-break:normal;vertical-align:top\">list(s)</td><td style=\"font-family:Arial, sans-serif;font-size:14px;padding:10px 5px;border-style:solid;border-width:1px;overflow:hidden;word-break:normal;vertical-align:top\">تحويل المتغير s إلى قائمة</td><td style=\"font-family:Arial, sans-serif;font-size:14px;padding:10px 5px;border-style:solid;border-width:1px;overflow:hidden;word-break:normal;vertical-align:top\">s = (1, 2, 3)<br>y = list(s)</td></tr><tr><td style=\"font-family:Arial, sans-serif;font-size:14px;padding:10px 5px;border-style:solid;border-width:1px;overflow:hidden;word-break:normal;vertical-align:top\">set(s)</td><td style=\"font-family:Arial, sans-serif;font-size:14px;padding:10px 5px;border-style:solid;border-width:1px;overflow:hidden;word-break:normal;vertical-align:top\">تحويل المتغير s إلى مجموعة</td><td style=\"font-family:Arial, sans-serif;font-size:14px;padding:10px 5px;border-style:solid;border-width:1px;overflow:hidden;word-break:normal;vertical-align:top\">s = set([2,4,3])</td></tr><tr><td style=\"font-family:Arial, sans-serif;font-size:14px;padding:10px 5px;border-style:solid;border-width:1px;overflow:hidden;word-break:normal;vertical-align:top\">dict(s)</td><td style=\"font-family:Arial, sans-serif;font-size:14px;padding:10px 5px;border-style:solid;border-width:1px;overflow:hidden;word-break:normal;vertical-align:top\">تحويل المتغير s إلى قاموس</td><td style=\"font-family:Arial, sans-serif;font-size:14px;padding:10px 5px;border-style:solid;border-width:1px;overflow:hidden;word-break:normal;vertical-align:top\">l = [('k1', 5), ('k2', 2.5)]<br>d = dict(l)</td></tr><tr><td style=\"font-family:Arial, sans-serif;font-size:14px;padding:10px 5px;border-style:solid;border-width:1px;overflow:hidden;word-break:normal;vertical-align:top\">char(x)</td><td style=\"font-family:Arial, sans-serif;font-size:14px;padding:10px 5px;border-style:solid;border-width:1px;overflow:hidden;word-break:normal;vertical-align:top\">التحويل إلى حرف، عادة x يكون شفرة أسكي للحرف</td><td style=\"font-family:Arial, sans-serif;font-size:14px;padding:10px 5px;border-style:solid;border-width:1px;overflow:hidden;word-break:normal;vertical-align:top\">c = char(48)</td></tr><tr><td style=\"font-family:Arial, sans-serif;font-size:14px;padding:10px 5px;border-style:solid;border-width:1px;overflow:hidden;word-break:normal;vertical-align:top\">ord(x)</td><td style=\"font-family:Arial, sans-serif;font-size:14px;padding:10px 5px;border-style:solid;border-width:1px;overflow:hidden;word-break:normal;vertical-align:top\">تحويل الحرف إلى شفرة أسكي</td><td style=\"font-family:Arial, sans-serif;font-size:14px;padding:10px 5px;border-style:solid;border-width:1px;overflow:hidden;word-break:normal;vertical-align:top\">y = ord('A')</td></tr></table>"
   ]
  },
  {
   "cell_type": "code",
   "execution_count": 9,
   "metadata": {},
   "outputs": [
    {
     "name": "stdout",
     "output_type": "stream",
     "text": [
      "7\n"
     ]
    }
   ],
   "source": [
    "print eval('5 + 2')"
   ]
  },
  {
   "cell_type": "code",
   "execution_count": 12,
   "metadata": {},
   "outputs": [
    {
     "name": "stdout",
     "output_type": "stream",
     "text": [
      "[1, 2, 4]\n"
     ]
    }
   ],
   "source": [
    "print eval('[1,2,4]')"
   ]
  },
  {
   "cell_type": "code",
   "execution_count": null,
   "metadata": {},
   "outputs": [],
   "source": [
    ""
   ]
  }
 ],
 "metadata": {
  "kernelspec": {
   "display_name": "Python 2",
   "language": "python",
   "name": "python2"
  },
  "language_info": {
   "codemirror_mode": {
    "name": "ipython",
    "version": 2.0
   },
   "file_extension": ".py",
   "mimetype": "text/x-python",
   "name": "python",
   "nbconvert_exporter": "python",
   "pygments_lexer": "ipython2",
   "version": "2.7.6"
  }
 },
 "nbformat": 4,
 "nbformat_minor": 0
}